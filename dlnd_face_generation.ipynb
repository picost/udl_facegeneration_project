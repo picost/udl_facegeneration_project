{
 "cells": [
  {
   "cell_type": "markdown",
   "metadata": {},
   "source": [
    "# Face Generation\n",
    "\n",
    "In this project, you'll define and train a DCGAN on a dataset of faces. Your goal is to get a generator network to generate *new* images of faces that look as realistic as possible!\n",
    "\n",
    "The project will be broken down into a series of tasks from **loading in data to defining and training adversarial networks**. At the end of the notebook, you'll be able to visualize the results of your trained Generator to see how it performs; your generated samples should look like fairly realistic faces with small amounts of noise.\n",
    "\n",
    "### Get the Data\n",
    "\n",
    "You'll be using the [CelebFaces Attributes Dataset (CelebA)](http://mmlab.ie.cuhk.edu.hk/projects/CelebA.html) to train your adversarial networks.\n",
    "\n",
    "This dataset is more complex than the number datasets (like MNIST or SVHN) you've been working with, and so, you should prepare to define deeper networks and train them for a longer time to get good results. It is suggested that you utilize a GPU for training.\n",
    "\n",
    "### Pre-processed Data\n",
    "\n",
    "Since the project's main focus is on building the GANs, we've done *some* of the pre-processing for you. Each of the CelebA images has been cropped to remove parts of the image that don't include a face, then resized down to 64x64x3 NumPy images. Some sample data is show below.\n",
    "\n",
    "<img src='assets/processed_face_data.png' width=60% />\n",
    "\n",
    "> If you are working locally, you can download this data [by clicking here](https://s3.amazonaws.com/video.udacity-data.com/topher/2018/November/5be7eb6f_processed-celeba-small/processed-celeba-small.zip)\n",
    "\n",
    "This is a zip file that you'll need to extract in the home directory of this notebook for further loading and processing. After extracting the data, you should be left with a directory of data `processed_celeba_small/`"
   ]
  },
  {
   "cell_type": "code",
   "execution_count": 1,
   "metadata": {},
   "outputs": [
    {
     "name": "stdout",
     "output_type": "stream",
     "text": [
      "Samples located in [./processed_celeba_small/]\n"
     ]
    }
   ],
   "source": [
    "import os\n",
    "if not 'picost' in os.getcwd():\n",
    "    data_dir = './processed_celeba_small/'\n",
    "else:\n",
    "    data_dir = '/data/picost/ml_samples/processed_celeba_small/'\n",
    "print('Samples located in [{}]'.format(data_dir))"
   ]
  },
  {
   "cell_type": "raw",
   "metadata": {},
   "source": [
    "# can comment out after executing\n",
    "!unzip processed_celeba_small.zip"
   ]
  },
  {
   "cell_type": "code",
   "execution_count": 2,
   "metadata": {},
   "outputs": [],
   "source": [
    "\"\"\"\n",
    "DON'T MODIFY ANYTHING IN THIS CELL\n",
    "\"\"\"\n",
    "import pickle as pkl\n",
    "import matplotlib.pyplot as plt\n",
    "import numpy as np\n",
    "import problem_unittests as tests\n",
    "#import helper\n",
    "\n",
    "%matplotlib inline"
   ]
  },
  {
   "cell_type": "markdown",
   "metadata": {},
   "source": [
    "## Visualize the CelebA Data\n",
    "\n",
    "The [CelebA](http://mmlab.ie.cuhk.edu.hk/projects/CelebA.html) dataset contains over 200,000 celebrity images with annotations. Since you're going to be generating faces, you won't need the annotations, you'll only need the images. Note that these are color images with [3 color channels (RGB)](https://en.wikipedia.org/wiki/Channel_(digital_image)#RGB_Images) each.\n",
    "\n",
    "### Pre-process and Load the Data\n",
    "\n",
    "Since the project's main focus is on building the GANs, we've done *some* of the pre-processing for you. Each of the CelebA images has been cropped to remove parts of the image that don't include a face, then resized down to 64x64x3 NumPy images. This *pre-processed* dataset is a smaller subset of the very large CelebA data.\n",
    "\n",
    "> There are a few other steps that you'll need to **transform** this data and create a **DataLoader**.\n",
    "\n",
    "#### Exercise: Complete the following `get_dataloader` function, such that it satisfies these requirements:\n",
    "\n",
    "* Your images should be square, Tensor images of size `image_size x image_size` in the x and y dimension.\n",
    "* Your function should return a DataLoader that shuffles and batches these Tensor images.\n",
    "\n",
    "#### ImageFolder\n",
    "\n",
    "To create a dataset given a directory of images, it's recommended that you use PyTorch's [ImageFolder](https://pytorch.org/docs/stable/torchvision/datasets.html#imagefolder) wrapper, with a root directory `processed_celeba_small/` and data transformation passed in."
   ]
  },
  {
   "cell_type": "code",
   "execution_count": 3,
   "metadata": {},
   "outputs": [],
   "source": [
    "# necessary imports\n",
    "import torch\n",
    "import torchvision"
   ]
  },
  {
   "cell_type": "code",
   "execution_count": 4,
   "metadata": {},
   "outputs": [],
   "source": [
    "def get_dataloader(batch_size, image_size, data_dir='processed_celeba_small/'):\n",
    "    \"\"\"\n",
    "    Batch the neural network data using DataLoader\n",
    "    \n",
    "    Args:\n",
    "    -----\n",
    "    \n",
    "        batch_size (int): \n",
    "            The size of each batch; the number of images in a batch\n",
    "        img_size (int): \n",
    "            The square size of the image data (x, y)\n",
    "        data_dir (str, optional): \n",
    "            Directory where image data is located. Default assumes local\n",
    "            'processed_celeba_small/' directory.\n",
    "    \n",
    "    Return:\n",
    "    -------\n",
    "    \n",
    "        DataLoader with batched data\n",
    "    \n",
    "    \"\"\"\n",
    "    transforms = torchvision.transforms.Compose(\n",
    "        [torchvision.transforms.Resize(image_size), \n",
    "         torchvision.transforms.RandomHorizontalFlip(), \n",
    "         torchvision.transforms.ToTensor(), \n",
    "         #torchvision.transforms.Normalize((0.485, 0.456, 0.406), (0.229, 0.224, 0.225)), \n",
    "         ])\n",
    "    img_set = torchvision.datasets.ImageFolder(root=data_dir, transform=transforms)\n",
    "    loader = torch.utils.data.DataLoader(img_set, batch_size=batch_size, shuffle=True)\n",
    "    return loader\n"
   ]
  },
  {
   "cell_type": "markdown",
   "metadata": {},
   "source": [
    "## Create a DataLoader\n",
    "\n",
    "#### Exercise: Create a DataLoader `celeba_train_loader` with appropriate hyperparameters.\n",
    "\n",
    "Call the above function and create a dataloader to view images. \n",
    "* You can decide on any reasonable `batch_size` parameter\n",
    "* Your `image_size` **must be** `32`. Resizing the data to a smaller size will make for faster training, while still creating convincing images of faces!"
   ]
  },
  {
   "cell_type": "code",
   "execution_count": 5,
   "metadata": {},
   "outputs": [],
   "source": [
    "# Define function hyperparameters\n",
    "batch_size = 64\n",
    "img_size = 32\n",
    "\n",
    "\"\"\"\n",
    "DON'T MODIFY ANYTHING IN THIS CELL THAT IS BELOW THIS LINE\n",
    "\"\"\"\n",
    "# Call your function and get a dataloader\n",
    "celeba_train_loader = get_dataloader(batch_size, img_size, data_dir)\n"
   ]
  },
  {
   "cell_type": "markdown",
   "metadata": {},
   "source": [
    "Next, you can view some images! You should seen square images of somewhat-centered faces.\n",
    "\n",
    "Note: You'll need to convert the Tensor images into a NumPy type and transpose the dimensions to correctly display an image, suggested `imshow` code is below, but it may not be perfect."
   ]
  },
  {
   "cell_type": "code",
   "execution_count": 6,
   "metadata": {},
   "outputs": [
    {
     "data": {
      "image/png": "[encoded data removed]",
      "text/plain": [
       "<matplotlib.figure.Figure at 0x7f4a50c6f048>"
      ]
     },
     "metadata": {},
     "output_type": "display_data"
    }
   ],
   "source": [
    "# helper display function\n",
    "def imshow(img):\n",
    "    npimg = img.numpy()\n",
    "    plt.imshow(np.transpose(npimg, (1, 2, 0)))\n",
    "\n",
    "\"\"\"\n",
    "DON'T MODIFY ANYTHING IN THIS CELL THAT IS BELOW THIS LINE\n",
    "\"\"\"\n",
    "# obtain one batch of training images\n",
    "dataiter = iter(celeba_train_loader)\n",
    "images, _ = dataiter.next() # _ for no labels\n",
    "\n",
    "# plot the images in the batch, along with the corresponding labels\n",
    "fig = plt.figure(figsize=(20, 4))\n",
    "plot_size=20\n",
    "for idx in np.arange(plot_size):\n",
    "    ax = fig.add_subplot(2, plot_size/2, idx+1, xticks=[], yticks=[])\n",
    "    imshow(images[idx])"
   ]
  },
  {
   "cell_type": "markdown",
   "metadata": {},
   "source": [
    "#### Exercise: Pre-process your image data and scale it to a pixel range of -1 to 1\n",
    "\n",
    "You need to do a bit of pre-processing; you know that the output of a `tanh` activated generator will contain pixel values in a range from -1 to 1, and so, we need to rescale our training images to a range of -1 to 1. (Right now, they are in a range from 0-1.)"
   ]
  },
  {
   "cell_type": "code",
   "execution_count": 7,
   "metadata": {},
   "outputs": [],
   "source": [
    "# TODO: Complete the scale function\n",
    "def scale(x, feature_range=(-1, 1)):\n",
    "    ''' Returns image scaled with a feature_range of pixel from -1 to 1. \n",
    "    \n",
    "    Args:\n",
    "    -----\n",
    "    \n",
    "        x (tensor like): \n",
    "            image to be scaled.\n",
    "        feature_range (tuple, optional): \n",
    "            min and max values of new feature scale. Default is (-1, 1)\n",
    "            \n",
    "    Returns:\n",
    "    --------\n",
    "    \n",
    "        Tensor:\n",
    "            Copy of original tensor with scaled values\n",
    "    \n",
    "    \n",
    "    .. note:\n",
    "    \n",
    "        This function assumes that the input x is already scaled from 0-1.\n",
    "        \n",
    "    '''\n",
    "    return 2.*x - 1.\n"
   ]
  },
  {
   "cell_type": "code",
   "execution_count": 8,
   "metadata": {},
   "outputs": [
    {
     "name": "stdout",
     "output_type": "stream",
     "text": [
      "Min:  tensor(-0.9608)\n",
      "Max:  tensor(0.8588)\n"
     ]
    }
   ],
   "source": [
    "\"\"\"\n",
    "DON'T MODIFY ANYTHING IN THIS CELL THAT IS BELOW THIS LINE\n",
    "\"\"\"\n",
    "# check scaled range\n",
    "# should be close to -1 to 1\n",
    "img = images[0]\n",
    "scaled_img = scale(img)\n",
    "\n",
    "print('Min: ', scaled_img.min())\n",
    "print('Max: ', scaled_img.max())"
   ]
  },
  {
   "cell_type": "code",
   "execution_count": 9,
   "metadata": {},
   "outputs": [
    {
     "data": {
      "text/plain": [
       "tensor(0.9294)"
      ]
     },
     "execution_count": 9,
     "metadata": {},
     "output_type": "execute_result"
    }
   ],
   "source": [
    "img.max()"
   ]
  },
  {
   "cell_type": "markdown",
   "metadata": {},
   "source": [
    "---\n",
    "# Define the Model\n",
    "\n",
    "A GAN is comprised of two adversarial networks, a discriminator and a generator.\n",
    "\n",
    "## Discriminator\n",
    "\n",
    "Your first task will be to define the discriminator. This is a convolutional classifier like you've built before, only without any maxpooling layers. To deal with this complex data, it's suggested you use a deep network with **normalization**. You are also allowed to create any helper functions that may be useful.\n",
    "\n",
    "#### Exercise: Complete the Discriminator class\n",
    "* The inputs to the discriminator are 32x32x3 tensor images\n",
    "* The output should be a single value that will indicate whether a given image is real or fake\n"
   ]
  },
  {
   "cell_type": "markdown",
   "metadata": {},
   "source": [
    "### Discriminator structure\n",
    "\n",
    "The first attemt of discriminator defined for this GAN was build in a similar way as the one in the cycle-GAN project (itself inspired by the DCGAN and Cycle-GAN papers).\n",
    "\n",
    "It is a succession of convolutional layers with the following caracteristics:\n",
    "- Almost all layers use kernels with size 4 and stride 2 which downsample the features after each layer, while increasing the depth with a factor 2. \n",
    "- The first layer increases the depth of the input from 3 channels to a parameterized depth.\n",
    "- All \"internal\" layers use batch normalization. (It has been shown)(https://arxiv.org/pdf/1512.03385.pdf) that this eases optimization of the weight (and reduce overfitting which in this  case could be the generator \"learning by heart\" the sample images).\n",
    "- The number of internal layers is set to 2 (for a total of 4). This is one layer less than used in the cycle-GAN exercise due to the lower image size.\n",
    "- The first and last layers do not use batch normalization, to comply with the findings in [the original DCGAN paper](https://arxiv.org/pdf/1511.06434.pdf).\n",
    "- All activation functions are ReLU. In the cycle-GAN exercise, this was benchmarked vs leaky ReLU with negative slope of 0.2 and provided better results.\n",
    "- The last layer is built using a size-conservative kernel (size 3, padding 1, stride 1) shrinking the features to a single channel which values are finally averaged.\n",
    "\n",
    "The particular structure for the last layer was motivated by the following observation. In the cycle-GAN solution, there was what seemed to be a mistake: the last layer of the discriminator returned a 7x7 feature map. (as reported [here](https://github.com/udacity/deep-learning-v2-pytorch/issues/72) for example)\n",
    "These feature map was then compared using MSE to a feature map of all 1 (resp. all 0) for the real images.\n",
    "Changing this behaviour to use a kernel with same size as the former-last feature map to shrink it to only one value (mathematically equivalent to using a linear classifier over the flattened feature) ended-up in a result with lower quality.\n",
    "This result was also reported by another student, as can be seen [here](https://knowledge.udacity.com/questions/29841).\n",
    "\n",
    "As the project unit-tests did not allow the discriminator to return values which were not a scalar, a compromise was attempted:\n",
    " - the last layer uses a size-conservative kernel\n",
    " - the output of this layer is averaged to produce the final output\n",
    "\n",
    "Combining this with a Mean-Squared-Error (MSE) is not exactly the same as using MSE directly on the last layer output as done in the cycle-CGAN exercise:\n",
    "- MSE on all outputs of the last layer:\n",
    "\\begin{equation}\n",
    "        MSE_{real} = \\frac{1}{n_{\\text{batch}} \\times n_{\\text{features}}}\\sum_{i=1}^{n_{\\text{batch}}}\\sum_{j=1}^{n_{\\text{features}}}(1 - d_{i,j})^2\n",
    "\\end{equation}\n",
    "- MSE on averaged outputs of the last layer:\n",
    "\\begin{equation}\n",
    "        MSE_{real} = \\frac{1}{n_{\\text{batch}}}\\sum_{i=1}^{n_{\\text{batch}}}(1 - ( \\frac{1}{n_{\\text{features}}} \\sum_{j=1}^{n_{\\text{features}}}d_{i,j}))^2\n",
    "\\end{equation}\n",
    "The later looks a little less favorable to the optimization due do the cross correlation terms between output features appearing in the error formulation.\n",
    "\n",
    "It is however used in a first attempt in order to compare it VS. a direct one dimensional output."
   ]
  },
  {
   "cell_type": "code",
   "execution_count": 10,
   "metadata": {},
   "outputs": [
    {
     "name": "stdout",
     "output_type": "stream",
     "text": [
      "Tests Passed\n"
     ]
    }
   ],
   "source": [
    "from gan_maker.discriminators.cnn_with_average import Discriminator\n",
    "\n",
    "\"\"\"\n",
    "DON'T MODIFY ANYTHING IN THIS CELL THAT IS BELOW THIS LINE\n",
    "\"\"\"\n",
    "tests.test_discriminator(Discriminator)"
   ]
  },
  {
   "cell_type": "markdown",
   "metadata": {},
   "source": [
    "## Generator\n",
    "\n",
    "The generator should upsample an input and generate a *new* image of the same size as our training data `32x32x3`. This should be mostly transpose convolutional layers with normalization applied to the outputs.\n",
    "\n",
    "#### Exercise: Complete the Generator class\n",
    "* The inputs to the generator are vectors of some length `z_size`\n",
    "* The output should be a image of shape `32x32x3`"
   ]
  },
  {
   "cell_type": "code",
   "execution_count": 11,
   "metadata": {},
   "outputs": [
    {
     "name": "stdout",
     "output_type": "stream",
     "text": [
      "Tests Passed\n"
     ]
    }
   ],
   "source": [
    "from gan_maker.generators.default_generator import Generator\n",
    "\n",
    "\"\"\"\n",
    "DON'T MODIFY ANYTHING IN THIS CELL THAT IS BELOW THIS LINE\n",
    "\"\"\"\n",
    "tests.test_generator(Generator)"
   ]
  },
  {
   "cell_type": "markdown",
   "metadata": {},
   "source": [
    "## Initialize the weights of your networks\n",
    "\n",
    "To help your models converge, you should initialize the weights of the convolutional and linear layers in your model. From reading the [original DCGAN paper](https://arxiv.org/pdf/1511.06434.pdf), they say:\n",
    "> All weights were initialized from a zero-centered Normal distribution with standard deviation 0.02.\n",
    "\n",
    "So, your next task will be to define a weight initialization function that does just this!\n",
    "\n",
    "You can refer back to the lesson on weight initialization or even consult existing model code, such as that from [the `networks.py` file in CycleGAN Github repository](https://github.com/junyanz/pytorch-CycleGAN-and-pix2pix/blob/master/models/networks.py) to help you complete this function.\n",
    "\n",
    "#### Exercise: Complete the weight initialization function\n",
    "\n",
    "* This should initialize only **convolutional** and **linear** layers\n",
    "* Initialize the weights to a normal distribution, centered around 0, with a standard deviation of 0.02.\n",
    "* The bias terms, if they exist, may be left alone or set to 0."
   ]
  },
  {
   "cell_type": "code",
   "execution_count": 12,
   "metadata": {},
   "outputs": [],
   "source": [
    "def weights_init_normal(m):\n",
    "    \"\"\"\n",
    "    Applies initial weights to certain layers in a model .\n",
    "    The weights are taken from a normal distribution \n",
    "    with mean = 0, std dev = 0.02.\n",
    "    \n",
    "    Args:\n",
    "    -----\n",
    "    \n",
    "        m: \n",
    "            A module or layer in a network   \n",
    "            \n",
    "    \"\"\"\n",
    "    # classname will be something like:\n",
    "    # `Conv`, `BatchNorm2d`, `Linear`, etc.\n",
    "    classname = m.__class__.__name__\n",
    "    if 'Linear' in classname or 'Conv2d' in classname:\n",
    "        # apply a uniform distribution to the weights and a bias=0\n",
    "        m.weight.data.uniform_(0.0, 0.02)\n",
    "        try:\n",
    "            m.bias.data.fill_(0.)\n",
    "        except AttributeError:\n",
    "            pass   \n",
    "    "
   ]
  },
  {
   "cell_type": "markdown",
   "metadata": {
    "collapsed": true
   },
   "source": [
    "## Build complete network\n",
    "\n",
    "Define your models' hyperparameters and instantiate the discriminator and generator from the classes defined above. Make sure you've passed in the correct input arguments."
   ]
  },
  {
   "cell_type": "code",
   "execution_count": 13,
   "metadata": {},
   "outputs": [],
   "source": [
    "\"\"\"\n",
    "DON'T MODIFY ANYTHING IN THIS CELL THAT IS BELOW THIS LINE\n",
    "\"\"\"\n",
    "def build_network(d_conv_dim, g_conv_dim, z_size):\n",
    "    # define discriminator and generator\n",
    "    D = Discriminator(d_conv_dim, average_last=False)\n",
    "    G = Generator(z_size=z_size, conv_dim=g_conv_dim)\n",
    "\n",
    "    # initialize model weights\n",
    "    D.apply(weights_init_normal)\n",
    "    G.apply(weights_init_normal)\n",
    "\n",
    "    print(D)\n",
    "    print()\n",
    "    print(G)\n",
    "    \n",
    "    return D, G\n"
   ]
  },
  {
   "cell_type": "markdown",
   "metadata": {},
   "source": [
    "#### Exercise: Define model hyperparameters"
   ]
  },
  {
   "cell_type": "code",
   "execution_count": 14,
   "metadata": {},
   "outputs": [
    {
     "name": "stdout",
     "output_type": "stream",
     "text": [
      "Discriminator(\n",
      "  (conv1): Conv2d(3, 64, kernel_size=(4, 4), stride=(2, 2), padding=(1, 1))\n",
      "  (conv2): Sequential(\n",
      "    (0): Conv2d(64, 128, kernel_size=(4, 4), stride=(2, 2), padding=(1, 1), bias=False)\n",
      "    (1): BatchNorm2d(128, eps=1e-05, momentum=0.1, affine=True, track_running_stats=True)\n",
      "  )\n",
      "  (conv3): Sequential(\n",
      "    (0): Conv2d(128, 256, kernel_size=(4, 4), stride=(2, 2), padding=(1, 1), bias=False)\n",
      "    (1): BatchNorm2d(256, eps=1e-05, momentum=0.1, affine=True, track_running_stats=True)\n",
      "  )\n",
      "  (conv_classify): Conv2d(256, 1, kernel_size=(4, 4), stride=(1, 1))\n",
      "  (relu): ReLU()\n",
      ")\n",
      "\n",
      "Generator(\n",
      "  (fc_in): Linear(in_features=50, out_features=4096, bias=True)\n",
      "  (dconv1): Sequential(\n",
      "    (0): ConvTranspose2d(256, 128, kernel_size=(4, 4), stride=(2, 2), padding=(1, 1), bias=False)\n",
      "    (1): BatchNorm2d(128, eps=1e-05, momentum=0.1, affine=True, track_running_stats=True)\n",
      "  )\n",
      "  (dconv2): Sequential(\n",
      "    (0): ConvTranspose2d(128, 64, kernel_size=(4, 4), stride=(2, 2), padding=(1, 1), bias=False)\n",
      "    (1): BatchNorm2d(64, eps=1e-05, momentum=0.1, affine=True, track_running_stats=True)\n",
      "  )\n",
      "  (dconv3): ConvTranspose2d(64, 3, kernel_size=(4, 4), stride=(2, 2), padding=(1, 1))\n",
      "  (leak): LeakyReLU(negative_slope=0.2)\n",
      "  (tanh): Tanh()\n",
      ")\n"
     ]
    }
   ],
   "source": [
    "# Define model hyperparams\n",
    "d_conv_dim = 64\n",
    "g_conv_dim = 64\n",
    "z_size = 50\n",
    "\n",
    "\"\"\"\n",
    "DON'T MODIFY ANYTHING IN THIS CELL THAT IS BELOW THIS LINE\n",
    "\"\"\"\n",
    "D, G = build_network(d_conv_dim, g_conv_dim, z_size)"
   ]
  },
  {
   "cell_type": "markdown",
   "metadata": {},
   "source": [
    "### Training on GPU\n",
    "\n",
    "Check if you can train on GPU. Here, we'll set this as a boolean variable `train_on_gpu`. Later, you'll be responsible for making sure that \n",
    ">* Models,\n",
    "* Model inputs, and\n",
    "* Loss function arguments\n",
    "\n",
    "Are moved to GPU, where appropriate."
   ]
  },
  {
   "cell_type": "code",
   "execution_count": 15,
   "metadata": {},
   "outputs": [
    {
     "name": "stdout",
     "output_type": "stream",
     "text": [
      "Training on GPU!\n"
     ]
    }
   ],
   "source": [
    "\"\"\"\n",
    "DON'T MODIFY ANYTHING IN THIS CELL\n",
    "\"\"\"\n",
    "import torch\n",
    "\n",
    "# Check for a GPU\n",
    "train_on_gpu = torch.cuda.is_available()\n",
    "if not train_on_gpu:\n",
    "    print('No GPU found. Please use a GPU to train your neural network.')\n",
    "else:\n",
    "    print('Training on GPU!')"
   ]
  },
  {
   "cell_type": "markdown",
   "metadata": {},
   "source": [
    "---\n",
    "## Discriminator and Generator Losses\n",
    "\n",
    "Now we need to calculate the losses for both types of adversarial networks.\n",
    "\n",
    "### Discriminator Losses\n",
    "\n",
    "> * For the discriminator, the total loss is the sum of the losses for real and fake images, `d_loss = d_real_loss + d_fake_loss`. \n",
    "* Remember that we want the discriminator to output 1 for real images and 0 for fake images, so we need to set up the losses to reflect that.\n",
    "\n",
    "\n",
    "### Generator Loss\n",
    "\n",
    "The generator loss will look similar only with flipped labels. The generator's goal is to get the discriminator to *think* its generated images are *real*.\n",
    "\n",
    "#### Exercise: Complete real and fake loss functions\n",
    "\n",
    "**You may choose to use either cross entropy or a least squares error loss to complete the following `real_loss` and `fake_loss` functions.**"
   ]
  },
  {
   "cell_type": "code",
   "execution_count": 16,
   "metadata": {},
   "outputs": [],
   "source": [
    "#Not using MSELoss so we do not need to create a tensor of ones/zeros each time\n",
    "\n",
    "def real_loss(D_out):\n",
    "    '''Calculates how close discriminator outputs are to being real.\n",
    "       param, D_out: discriminator logits\n",
    "       return: real loss'''\n",
    "    loss = torch.mean((D_out - 1.)**2)\n",
    "    return loss\n",
    "\n",
    "def fake_loss(D_out):\n",
    "    '''Calculates how close discriminator outputs are to being fake.\n",
    "       param, D_out: discriminator logits\n",
    "       return: fake loss'''\n",
    "    loss = torch.mean(D_out ** 2)\n",
    "    return loss"
   ]
  },
  {
   "cell_type": "markdown",
   "metadata": {},
   "source": [
    "## Optimizers\n",
    "\n",
    "#### Exercise: Define optimizers for your Discriminator (D) and Generator (G)\n",
    "\n",
    "Define optimizers for your models with appropriate hyperparameters."
   ]
  },
  {
   "cell_type": "markdown",
   "metadata": {},
   "source": [
    "*Reuse the parameters identified in the exercises (which were taken from the DCGAN paper).*"
   ]
  },
  {
   "cell_type": "code",
   "execution_count": 17,
   "metadata": {},
   "outputs": [],
   "source": [
    "import torch.optim as optim\n",
    "\n",
    "# hyperparams for Adam optimizer\n",
    "lr=0.0002\n",
    "beta1=0.5\n",
    "beta2=0.999 # default value\n",
    "\n",
    "# Create optimizers for the discriminator D and generator G\n",
    "d_optimizer = optim.Adam(D.parameters(), lr, [beta1, beta2])\n",
    "g_optimizer = optim.Adam(G.parameters(), lr, [beta1, beta2])"
   ]
  },
  {
   "cell_type": "markdown",
   "metadata": {},
   "source": [
    "---\n",
    "## Training\n",
    "\n",
    "Training will involve alternating between training the discriminator and the generator. You'll use your functions `real_loss` and `fake_loss` to help you calculate the discriminator losses.\n",
    "\n",
    "* You should train the discriminator by alternating on real and fake images\n",
    "* Then the generator, which tries to trick the discriminator and should have an opposing loss function\n",
    "\n",
    "\n",
    "#### Saving Samples\n",
    "\n",
    "You've been given some code to print out some loss statistics and save some generated \"fake\" samples."
   ]
  },
  {
   "cell_type": "markdown",
   "metadata": {},
   "source": [
    "#### Exercise: Complete the training function\n",
    "\n",
    "Keep in mind that, if you've moved your models to GPU, you'll also have to move any model inputs to GPU."
   ]
  },
  {
   "cell_type": "code",
   "execution_count": 18,
   "metadata": {},
   "outputs": [],
   "source": [
    "def train(D, G, n_epochs, print_every=200, save_every=5):\n",
    "    \"\"\"Trains adversarial networks for some number of epochs\n",
    "    \n",
    "    Args:\n",
    "    -----\n",
    "    \n",
    "        D (nn.Module): \n",
    "            Discriminator network\n",
    "        G (nn.Module):\n",
    "            Generator network\n",
    "        n_epochs (int): \n",
    "            number of epochs to train for\n",
    "        print_every (int, optional): \n",
    "            batch-period at which the models' losses ar eprinted to console\n",
    "        save_every (int, optional):\n",
    "            epoch-period at which the models' states are saved to persistence\n",
    "        \n",
    "            \n",
    "    Returns:\n",
    "    --------\n",
    "        \n",
    "        list : \n",
    "            tuples of D and G losses at each epoch\n",
    "            \n",
    "    .. note:\n",
    "    \n",
    "        The function optimizes the weights of passed D and G as side-effect.\n",
    "            \n",
    "    \"\"\"\n",
    "    # move models to GPU\n",
    "    if train_on_gpu:\n",
    "        D.cuda()\n",
    "        G.cuda()\n",
    "    # keep track of loss and generated, \"fake\" samples\n",
    "    samples = []\n",
    "    losses = []\n",
    "    # Get some fixed data for sampling. These are images that are held\n",
    "    # constant throughout training, and allow us to inspect the model's performance\n",
    "    sample_size = 16\n",
    "    fixed_z = np.random.uniform(-1., 1., size=(sample_size, z_size))\n",
    "    fixed_z = torch.from_numpy(fixed_z).float()\n",
    "    # move z to GPU if available\n",
    "    if train_on_gpu:\n",
    "        fixed_z = fixed_z.cuda()\n",
    "    # epoch training loop\n",
    "    for epoch in range(n_epochs):\n",
    "        # batch training loop\n",
    "        batch_losses = np.empty((len(celeba_train_loader), 2))\n",
    "        for batch_i, (real_images, _) in enumerate(celeba_train_loader):\n",
    "            batch_size = real_images.size(0)\n",
    "            real_images = scale(real_images)\n",
    "            # ===============================================\n",
    "            #         YOUR CODE HERE: TRAIN THE NETWORKS\n",
    "            # ===============================================\n",
    "            D.train()\n",
    "            G.train()\n",
    "            # 1. Train the discriminator on real and fake images\n",
    "            d_optimizer.zero_grad()\n",
    "            random_z = np.random.uniform(-1., 1., size=(batch_size, z_size))\n",
    "            random_z = torch.from_numpy(random_z).float()\n",
    "            if train_on_gpu:\n",
    "                random_z = random_z.cuda()\n",
    "                real_images = real_images.cuda()\n",
    "            # Discriminate real images\n",
    "            d_loss_real = real_loss(D(real_images))\n",
    "            # Discriminate fake images\n",
    "            fake_images = G(random_z)\n",
    "            d_loss_fake = fake_loss(D(fake_images))\n",
    "            # Assemble loss and update\n",
    "            d_loss = d_loss_fake + d_loss_real\n",
    "            d_loss.backward()\n",
    "            d_optimizer.step()\n",
    "            # 2. Train the generator with an adversarial loss\n",
    "            g_optimizer.zero_grad()\n",
    "            random_z = np.random.uniform(-1., 1., size=(batch_size, z_size))\n",
    "            random_z = torch.from_numpy(random_z).float()\n",
    "            # move z to GPU if available\n",
    "            if train_on_gpu:\n",
    "                random_z = random_z.cuda()\n",
    "            fake_generated = G(random_z)\n",
    "            g_loss = real_loss(D(fake_generated))\n",
    "            g_loss.backward()\n",
    "            g_optimizer.step()\n",
    "            batch_losses[batch_i, :] = [d_loss.item(), g_loss.item()]\n",
    "            # ===============================================\n",
    "            #              END OF YOUR CODE\n",
    "            # ===============================================\n",
    "            # Print some loss stats\n",
    "            if batch_i % print_every == 0:\n",
    "                # print discriminator and generator loss\n",
    "                print('Epoch [{:5d}/{:5d} - batch{:5d}] | d_loss: {:6.4f} | g_loss: {:6.4f}'.format(\n",
    "                        epoch+1, n_epochs, batch_i, d_loss.item(), g_loss.item()))\n",
    "        ## AFTER EACH EPOCH##   \n",
    "        # append discriminator loss and generator loss\n",
    "        losses.append(batch_losses.sum(axis=0))\n",
    "        print('-' * 70)\n",
    "        print('Epoch [{:5d}/{:5d}] | d_loss: {:6.4f} | g_loss: {:6.4f}'.format(\n",
    "                        epoch+1, n_epochs, d_loss.item(), g_loss.item()))\n",
    "        print('-' * 70)\n",
    "        # this code assumes your generator is named G, feel free to change the name\n",
    "        # generate and save sample, fake images\n",
    "        G.eval() # for generating samples\n",
    "        samples_z = G(fixed_z)\n",
    "        samples.append(samples_z)\n",
    "        G.train() # back to training mode\n",
    "        if epoch % save_every == 0 and epoch > 0:\n",
    "            # Save training generator samples\n",
    "            torch.save(D.state_dictte_dict(), 'discriminator.pt')\n",
    "            torch.save(G.state_dictte_dict(), 'generator.pt')\n",
    "    with open('train_samples.pkl', 'wb') as f:\n",
    "        pkl.dump(samples, f)\n",
    "    # finally return losses\n",
    "    D.eval()\n",
    "    G.eval()\n",
    "    losses = np.array(losses)\n",
    "    return losses"
   ]
  },
  {
   "cell_type": "markdown",
   "metadata": {},
   "source": [
    "Set your number of training epochs and train your GAN!"
   ]
  },
  {
   "cell_type": "code",
   "execution_count": null,
   "metadata": {},
   "outputs": [
    {
     "name": "stdout",
     "output_type": "stream",
     "text": [
      "Epoch [    1/   10 - batch    0] | d_loss: 279.7592 | g_loss: 123.5360\n",
      "Epoch [    1/   10 - batch  200] | d_loss: 0.6673 | g_loss: 0.5121\n",
      "Epoch [    1/   10 - batch  400] | d_loss: 0.4821 | g_loss: 0.4184\n",
      "Epoch [    1/   10 - batch  600] | d_loss: 0.2795 | g_loss: 0.4727\n",
      "Epoch [    1/   10 - batch  800] | d_loss: 0.0663 | g_loss: 0.8602\n",
      "Epoch [    1/   10 - batch 1000] | d_loss: 0.0186 | g_loss: 0.9133\n",
      "Epoch [    1/   10 - batch 1200] | d_loss: 0.0798 | g_loss: 1.0948\n",
      "Epoch [    1/   10 - batch 1400] | d_loss: 0.0583 | g_loss: 1.0058\n",
      "----------------------------------------------------------------------\n",
      "Epoch [    1/   10] | d_loss: 0.1268 | g_loss: 0.5787\n",
      "----------------------------------------------------------------------\n",
      "Epoch [    2/   10 - batch    0] | d_loss: 0.1188 | g_loss: 0.7831\n",
      "Epoch [    2/   10 - batch  200] | d_loss: 0.1006 | g_loss: 0.7251\n",
      "Epoch [    2/   10 - batch  400] | d_loss: 0.1443 | g_loss: 0.8570\n",
      "Epoch [    2/   10 - batch  600] | d_loss: 0.2027 | g_loss: 0.5385\n",
      "Epoch [    2/   10 - batch  800] | d_loss: 0.2786 | g_loss: 0.4985\n",
      "Epoch [    2/   10 - batch 1000] | d_loss: 0.4310 | g_loss: 0.3079\n",
      "Epoch [    2/   10 - batch 1200] | d_loss: 0.3595 | g_loss: 0.3877\n",
      "Epoch [    2/   10 - batch 1400] | d_loss: 0.3882 | g_loss: 0.4426\n",
      "----------------------------------------------------------------------\n",
      "Epoch [    2/   10] | d_loss: 0.4440 | g_loss: 0.2087\n",
      "----------------------------------------------------------------------\n",
      "Epoch [    3/   10 - batch    0] | d_loss: 0.6097 | g_loss: 0.8181\n",
      "Epoch [    3/   10 - batch  200] | d_loss: 0.3662 | g_loss: 0.3657\n",
      "Epoch [    3/   10 - batch  400] | d_loss: 0.2970 | g_loss: 0.5298\n",
      "Epoch [    3/   10 - batch  600] | d_loss: 0.6109 | g_loss: 0.5837\n",
      "Epoch [    3/   10 - batch  800] | d_loss: 0.3787 | g_loss: 0.5333\n",
      "Epoch [    3/   10 - batch 1000] | d_loss: 0.3237 | g_loss: 0.5470\n",
      "Epoch [    3/   10 - batch 1200] | d_loss: 0.3795 | g_loss: 0.4901\n",
      "Epoch [    3/   10 - batch 1400] | d_loss: 0.2540 | g_loss: 0.1742\n",
      "----------------------------------------------------------------------\n",
      "Epoch [    3/   10] | d_loss: 0.3760 | g_loss: 0.3057\n",
      "----------------------------------------------------------------------\n",
      "Epoch [    4/   10 - batch    0] | d_loss: 0.4575 | g_loss: 1.0088\n",
      "Epoch [    4/   10 - batch  200] | d_loss: 0.2692 | g_loss: 0.8765\n",
      "Epoch [    4/   10 - batch  400] | d_loss: 0.2699 | g_loss: 0.3367\n",
      "Epoch [    4/   10 - batch  600] | d_loss: 0.3070 | g_loss: 0.6312\n",
      "Epoch [    4/   10 - batch  800] | d_loss: 0.3787 | g_loss: 0.2793\n",
      "Epoch [    4/   10 - batch 1000] | d_loss: 0.3238 | g_loss: 0.4022\n",
      "Epoch [    4/   10 - batch 1200] | d_loss: 0.1796 | g_loss: 0.6972\n",
      "Epoch [    4/   10 - batch 1400] | d_loss: 0.2876 | g_loss: 0.9526\n",
      "----------------------------------------------------------------------\n",
      "Epoch [    4/   10] | d_loss: 0.2706 | g_loss: 0.2475\n",
      "----------------------------------------------------------------------\n",
      "Epoch [    5/   10 - batch    0] | d_loss: 0.4552 | g_loss: 0.9009\n",
      "Epoch [    5/   10 - batch  200] | d_loss: 0.2593 | g_loss: 0.7510\n",
      "Epoch [    5/   10 - batch  400] | d_loss: 0.3488 | g_loss: 0.5345\n",
      "Epoch [    5/   10 - batch  600] | d_loss: 0.2156 | g_loss: 1.0916\n",
      "Epoch [    5/   10 - batch  800] | d_loss: 0.1512 | g_loss: 0.5844\n",
      "Epoch [    5/   10 - batch 1000] | d_loss: 0.3917 | g_loss: 0.9908\n",
      "Epoch [    5/   10 - batch 1200] | d_loss: 0.3190 | g_loss: 0.7737\n",
      "Epoch [    5/   10 - batch 1400] | d_loss: 0.2849 | g_loss: 0.6565\n",
      "----------------------------------------------------------------------\n",
      "Epoch [    5/   10] | d_loss: 0.1544 | g_loss: 0.9692\n",
      "----------------------------------------------------------------------\n",
      "Epoch [    6/   10 - batch    0] | d_loss: 0.2829 | g_loss: 1.3185\n",
      "Epoch [    6/   10 - batch  200] | d_loss: 0.2112 | g_loss: 0.6127\n",
      "Epoch [    6/   10 - batch  400] | d_loss: 0.1887 | g_loss: 0.2852\n",
      "Epoch [    6/   10 - batch  600] | d_loss: 0.2066 | g_loss: 0.3951\n",
      "Epoch [    6/   10 - batch  800] | d_loss: 0.1717 | g_loss: 0.6284\n",
      "Epoch [    6/   10 - batch 1000] | d_loss: 0.3429 | g_loss: 0.9655\n",
      "Epoch [    6/   10 - batch 1200] | d_loss: 0.1377 | g_loss: 0.7693\n",
      "Epoch [    6/   10 - batch 1400] | d_loss: 0.2230 | g_loss: 0.6501\n",
      "----------------------------------------------------------------------\n",
      "Epoch [    6/   10] | d_loss: 0.5898 | g_loss: 0.1016\n",
      "----------------------------------------------------------------------\n",
      "Epoch [    7/   10 - batch    0] | d_loss: 0.8742 | g_loss: 1.8254\n",
      "Epoch [    7/   10 - batch  200] | d_loss: 0.1506 | g_loss: 0.5965\n",
      "Epoch [    7/   10 - batch  400] | d_loss: 0.3350 | g_loss: 0.5427\n",
      "Epoch [    7/   10 - batch  600] | d_loss: 0.3312 | g_loss: 0.7814\n",
      "Epoch [    7/   10 - batch  800] | d_loss: 0.1764 | g_loss: 0.6800\n",
      "Epoch [    7/   10 - batch 1000] | d_loss: 0.2066 | g_loss: 0.7761\n",
      "Epoch [    7/   10 - batch 1200] | d_loss: 0.1949 | g_loss: 0.6218\n",
      "Epoch [    7/   10 - batch 1400] | d_loss: 0.1467 | g_loss: 0.6857\n",
      "----------------------------------------------------------------------\n",
      "Epoch [    7/   10] | d_loss: 0.1414 | g_loss: 0.7118\n",
      "----------------------------------------------------------------------\n",
      "Epoch [    8/   10 - batch    0] | d_loss: 0.1932 | g_loss: 0.8080\n",
      "Epoch [    8/   10 - batch  200] | d_loss: 0.3123 | g_loss: 0.7390\n",
      "Epoch [    8/   10 - batch  400] | d_loss: 0.3015 | g_loss: 0.7237\n",
      "Epoch [    8/   10 - batch  600] | d_loss: 0.3076 | g_loss: 0.5773\n",
      "Epoch [    8/   10 - batch  800] | d_loss: 0.2003 | g_loss: 0.7216\n",
      "Epoch [    8/   10 - batch 1000] | d_loss: 0.2262 | g_loss: 0.6490\n",
      "Epoch [    8/   10 - batch 1200] | d_loss: 0.2619 | g_loss: 0.4440\n",
      "Epoch [    8/   10 - batch 1400] | d_loss: 0.2586 | g_loss: 0.6487\n",
      "----------------------------------------------------------------------\n",
      "Epoch [    8/   10] | d_loss: 0.3243 | g_loss: 0.3303\n",
      "----------------------------------------------------------------------\n",
      "Epoch [    9/   10 - batch    0] | d_loss: 0.4384 | g_loss: 1.0000\n",
      "Epoch [    9/   10 - batch  200] | d_loss: 0.1958 | g_loss: 0.5528\n",
      "Epoch [    9/   10 - batch  400] | d_loss: 0.2331 | g_loss: 0.8705\n",
      "Epoch [    9/   10 - batch  600] | d_loss: 0.1945 | g_loss: 0.8514\n",
      "Epoch [    9/   10 - batch  800] | d_loss: 0.2515 | g_loss: 0.9603\n",
      "Epoch [    9/   10 - batch 1000] | d_loss: 0.2157 | g_loss: 0.6471\n",
      "Epoch [    9/   10 - batch 1200] | d_loss: 0.2074 | g_loss: 0.6507\n"
     ]
    }
   ],
   "source": [
    "# set number of epochs \n",
    "from workspace_utils import active_session\n",
    "\n",
    "n_epochs = 10\n",
    "\n",
    "\"\"\"\n",
    "DON'T MODIFY ANYTHING IN THIS CELL\n",
    "\"\"\"\n",
    "with active_session():\n",
    "    # call training function\n",
    "    losses = train(D, G, n_epochs=n_epochs)"
   ]
  },
  {
   "cell_type": "markdown",
   "metadata": {
    "collapsed": true
   },
   "source": [
    "## Training loss\n",
    "\n",
    "Plot the training losses for the generator and discriminator, recorded after each epoch."
   ]
  },
  {
   "cell_type": "code",
   "execution_count": null,
   "metadata": {},
   "outputs": [],
   "source": [
    "fig, ax = plt.subplots()\n",
    "plt.plot(losses[:, 0], label='Discriminator', alpha=0.5)\n",
    "plt.plot(losses[:, 1], label='Generator', alpha=0.5)\n",
    "plt.title(\"Training Losses\")\n",
    "plt.legend()"
   ]
  },
  {
   "cell_type": "markdown",
   "metadata": {
    "collapsed": true
   },
   "source": [
    "## Generator samples from training\n",
    "\n",
    "View samples of images from the generator, and answer a question about the strengths and weaknesses of your trained models."
   ]
  },
  {
   "cell_type": "code",
   "execution_count": null,
   "metadata": {},
   "outputs": [],
   "source": [
    "# helper function for viewing a list of passed in sample images\n",
    "def view_samples(epoch, samples):\n",
    "    fig, axes = plt.subplots(figsize=(16,4), nrows=2, ncols=8, sharey=True, sharex=True)\n",
    "    for ax, img in zip(axes.flatten(), samples[epoch]):\n",
    "        img = img.detach().cpu().numpy()\n",
    "        img = np.transpose(img, (1, 2, 0))\n",
    "        img = ((img + 1)*255 / (2)).astype(np.uint8)\n",
    "        ax.xaxis.set_visible(False)\n",
    "        ax.yaxis.set_visible(False)\n",
    "        im = ax.imshow(img.reshape((32,32,3)))"
   ]
  },
  {
   "cell_type": "code",
   "execution_count": null,
   "metadata": {},
   "outputs": [],
   "source": [
    "# Load samples from generator, taken while training\n",
    "with open('train_samples.pkl', 'rb') as f:\n",
    "    samples = pkl.load(f)"
   ]
  },
  {
   "cell_type": "code",
   "execution_count": null,
   "metadata": {},
   "outputs": [],
   "source": [
    "_ = view_samples(-1, samples)"
   ]
  },
  {
   "cell_type": "markdown",
   "metadata": {},
   "source": [
    "### Question: What do you notice about your generated samples and how might you improve this model?\n",
    "When you answer this question, consider the following factors:\n",
    "* The dataset is biased; it is made of \"celebrity\" faces that are mostly white\n",
    "* Model size; larger models have the opportunity to learn more features in a data feature space\n",
    "* Optimization strategy; optimizers and number of epochs affect your final result\n"
   ]
  },
  {
   "cell_type": "markdown",
   "metadata": {},
   "source": [
    "**Answer:** (Write your answer in this cell)"
   ]
  },
  {
   "cell_type": "markdown",
   "metadata": {},
   "source": [
    "### Submitting This Project\n",
    "When submitting this project, make sure to run all the cells before saving the notebook. Save the notebook file as \"dlnd_face_generation.ipynb\" and save it as a HTML file under \"File\" -> \"Download as\". Include the \"problem_unittests.py\" files in your submission."
   ]
  }
 ],
 "metadata": {
  "kernelspec": {
   "display_name": "Python 3",
   "language": "python",
   "name": "python3"
  },
  "language_info": {
   "codemirror_mode": {
    "name": "ipython",
    "version": 3
   },
   "file_extension": ".py",
   "mimetype": "text/x-python",
   "name": "python",
   "nbconvert_exporter": "python",
   "pygments_lexer": "ipython3",
   "version": "3.6.3"
  }
 },
 "nbformat": 4,
 "nbformat_minor": 1
}
